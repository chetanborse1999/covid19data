{
 "cells": [
  {
   "cell_type": "code",
   "execution_count": 27,
   "metadata": {},
   "outputs": [],
   "source": [
    "import pandas as pd"
   ]
  },
  {
   "cell_type": "code",
   "execution_count": 32,
   "metadata": {},
   "outputs": [],
   "source": [
    "df = pd.read_csv(\"data_csv/master1.csv\")\n",
    "df = df.sort_values([\"Nation\", \"timestamp\"]).set_index(\"Nation\")"
   ]
  },
  {
   "cell_type": "code",
   "execution_count": 33,
   "metadata": {},
   "outputs": [],
   "source": [
    "#for India\n",
    "df_x = df.loc[\"INDIA\"]\n",
    "df_x.to_csv(\"data_csv/by_country/INDIA.csv\", index=True)"
   ]
  },
  {
   "cell_type": "code",
   "execution_count": 10,
   "metadata": {},
   "outputs": [],
   "source": [
    "f = open(\"pages/page_INDIA.html\")\n",
    "lines = f.readlines()\n",
    "for i in range(len(lines)):\n",
    "    if \"INDIA\" in lines[i]:\n",
    "        a = lines[i]\n",
    "        lines[i] = a[:a.find(\"INDIA\")] + \"CHINA\" + a[a.find(\"INDIA\")+len(\"INDIA\"):]\n",
    "        \n",
    "f.close()\n",
    "f = open(\"pages/page_CHINA.html\", \"w+\")\n",
    "s = \"\"\n",
    "for i in lines:\n",
    "    s+=i\n",
    "f.write(s)\n",
    "f.close()"
   ]
  }
 ],
 "metadata": {
  "kernelspec": {
   "display_name": "Python 3",
   "language": "python",
   "name": "python3"
  },
  "language_info": {
   "codemirror_mode": {
    "name": "ipython",
    "version": 3
   },
   "file_extension": ".py",
   "mimetype": "text/x-python",
   "name": "python",
   "nbconvert_exporter": "python",
   "pygments_lexer": "ipython3",
   "version": "3.5.2"
  }
 },
 "nbformat": 4,
 "nbformat_minor": 2
}
