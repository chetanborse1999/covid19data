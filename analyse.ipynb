{
 "cells": [
  {
   "cell_type": "code",
   "execution_count": 132,
   "metadata": {},
   "outputs": [],
   "source": [
    "import pandas as pd\n",
    "import matplotlib.pyplot as plt\n",
    "import numpy as np"
   ]
  },
  {
   "cell_type": "code",
   "execution_count": 133,
   "metadata": {},
   "outputs": [],
   "source": [
    "countries = pd.read_csv(\"data_csv/master1.csv\").set_index(\"Nation\").index.unique()"
   ]
  },
  {
   "cell_type": "code",
   "execution_count": 134,
   "metadata": {},
   "outputs": [],
   "source": [
    "def confirmed_cases_plot(df):\n",
    "    fig = plt.figure()\n",
    "    plt.plot(pd.to_datetime(df[\"Time\"]).dt.strftime(\"%b-%d\"),df[\"Confirmed Case\"], linewidth=5, c='r')\n",
    "    plt.xlabel(\"Time\", fontsize=18)\n",
    "    plt.ylabel(\"Number of Cases\", fontsize=18)\n",
    "    plt.title(\"{} Coronavirus Count\".format(country), fontsize=18)\n",
    "    plt.tight_layout()\n",
    "    fig.set_figheight(9)\n",
    "    fig.set_figwidth(12)\n",
    "    plt.gca().xaxis.set_major_locator(plt.MaxNLocator(15))\n",
    "    plt.gca().tick_params(axis=\"x\", labelsize=18)\n",
    "    plt.gca().tick_params(axis=\"y\", labelsize=18)\n",
    "    plt.gca().spines[\"top\"].set_visible(False)\n",
    "    plt.gca().spines[\"right\"].set_visible(False)\n",
    "    plt.xticks(rotation=45)\n",
    "    plt.grid(b=1, which=\"major\", axis=\"both\", c='#C0C0C0')\n",
    "    plt.savefig(\"results/confirmed_cases_{}.png\".format(country))\n",
    "    plt.close(fig)"
   ]
  },
  {
   "cell_type": "code",
   "execution_count": 135,
   "metadata": {},
   "outputs": [],
   "source": [
    "for country in countries:\n",
    "    df = pd.read_csv(\"data_csv/by_country/{}.csv\".format(country))\n",
    "    confirmed_cases_plot(df)\n",
    "\n",
    "# df = pd.read_csv(\"data_csv/by_country/INDIA.csv\")\n",
    "# confirmed_cases_plot(df)"
   ]
  }
 ],
 "metadata": {
  "kernelspec": {
   "display_name": "Python 3",
   "language": "python",
   "name": "python3"
  },
  "language_info": {
   "codemirror_mode": {
    "name": "ipython",
    "version": 3
   },
   "file_extension": ".py",
   "mimetype": "text/x-python",
   "name": "python",
   "nbconvert_exporter": "python",
   "pygments_lexer": "ipython3",
   "version": "3.5.2"
  }
 },
 "nbformat": 4,
 "nbformat_minor": 2
}
