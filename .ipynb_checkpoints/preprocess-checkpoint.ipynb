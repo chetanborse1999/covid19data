{
 "cells": [
  {
   "cell_type": "code",
   "execution_count": 3,
   "metadata": {},
   "outputs": [],
   "source": [
    "import pandas as pd"
   ]
  },
  {
   "cell_type": "code",
   "execution_count": 4,
   "metadata": {},
   "outputs": [],
   "source": [
    "df = pd.read_csv(\"data_csv/master1.csv\")\n",
    "df = df.sort_values([\"Nation\", \"timestamp\"]).set_index(\"Nation\")"
   ]
  },
  {
   "cell_type": "code",
   "execution_count": 3,
   "metadata": {},
   "outputs": [],
   "source": [
    "#for India\n",
    "df_x = df.loc[\"INDIA\"]\n",
    "df_x.to_csv(\"data_csv/by_country/INDIA.csv\", index=True)"
   ]
  },
  {
   "cell_type": "code",
   "execution_count": 11,
   "metadata": {},
   "outputs": [],
   "source": [
    "def generate_webpage(country):\n",
    "    f = open(\"pages/page_INDIA.html\")\n",
    "    lines = f.readlines()\n",
    "    for i in range(len(lines)):\n",
    "        if \"INDIA\" in lines[i]:\n",
    "            a = lines[i]\n",
    "            lines[i] = a[:a.find(\"INDIA\")] + \"{}\".format(country) + a[a.find(\"INDIA\")+len(\"INDIA\"):]\n",
    "\n",
    "    f.close()\n",
    "    f = open(\"pages/page_{}.html\".format(country), \"w+\")\n",
    "    s = \"\"\n",
    "    for i in lines:\n",
    "        s+=i\n",
    "    f.write(s)\n",
    "    f.close()\n"
   ]
  },
  {
   "cell_type": "code",
   "execution_count": null,
   "metadata": {},
   "outputs": [],
   "source": [
    "def convert(series):\n",
    "    l = []\n",
    "    for s in series:\n",
    "        j=0\n",
    "        while j<5:\n",
    "            if j==2:\n",
    "                s = s[:s.index(\".\")]+\" \"+s[s.index(\".\")+1:]\n",
    "            elif j==3 or j==4:\n",
    "                s = s[:s.index(\".\")]+\":\"+s[s.index(\".\")+1:]\n",
    "            else:\n",
    "                s = s[:s.index(\".\")]+\"/\"+s[s.index(\".\")+1:]\n",
    "            j+=1\n",
    "        l.append(s)\n",
    "\n",
    "    return pd.to_datetime(pd.Series(l), dayfirst=True)"
   ]
  },
  {
   "cell_type": "code",
   "execution_count": 12,
   "metadata": {
    "scrolled": false
   },
   "outputs": [],
   "source": [
    "for country in df.index.unique():\n",
    "    df_x = df.loc[country]\n",
    "    df_x.to_csv(\"data_csv/by_country/{}.csv\".format(country), index=True)\n",
    "    \n",
    "    generate_webpage(country)"
   ]
  }
 ],
 "metadata": {
  "kernelspec": {
   "display_name": "Python 3",
   "language": "python",
   "name": "python3"
  },
  "language_info": {
   "codemirror_mode": {
    "name": "ipython",
    "version": 3
   },
   "file_extension": ".py",
   "mimetype": "text/x-python",
   "name": "python",
   "nbconvert_exporter": "python",
   "pygments_lexer": "ipython3",
   "version": "3.5.2"
  }
 },
 "nbformat": 4,
 "nbformat_minor": 2
}
