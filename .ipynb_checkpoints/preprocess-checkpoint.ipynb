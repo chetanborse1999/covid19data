{
 "cells": [
  {
   "cell_type": "code",
   "execution_count": 9,
   "metadata": {},
   "outputs": [],
   "source": [
    "import pandas as pd\n",
    "import numpy as np"
   ]
  },
  {
   "cell_type": "code",
   "execution_count": 10,
   "metadata": {},
   "outputs": [],
   "source": [
    "def convert(series):\n",
    "    l = []\n",
    "    for s in series:\n",
    "        j=0\n",
    "        while j<5:\n",
    "            if j==2:\n",
    "                s = s[:s.index(\".\")]+\" \"+s[s.index(\".\")+1:]\n",
    "            elif j==3 or j==4:\n",
    "                s = s[:s.index(\".\")]+\":\"+s[s.index(\".\")+1:]\n",
    "            else:\n",
    "                s = s[:s.index(\".\")]+\"/\"+s[s.index(\".\")+1:]\n",
    "            j+=1\n",
    "        l.append(s)\n",
    "\n",
    "    return pd.to_datetime(pd.Series(l), dayfirst=True)"
   ]
  },
  {
   "cell_type": "code",
   "execution_count": 11,
   "metadata": {},
   "outputs": [],
   "source": [
    "def generate_webpage(country, values):\n",
    "    f = open(\"pages/page_INDIA.html\")\n",
    "    lines = f.readlines()\n",
    "    for i in range(len(lines)):\n",
    "        if \"INDIA\" in lines[i]:\n",
    "            a = lines[i]\n",
    "            lines[i] = a[:a.find(\"INDIA\")] + \"{}\".format(country) + a[a.find(\"INDIA\")+len(\"INDIA\"):]\n",
    "        \n",
    "        if 'h3 style=\"color:#ff0007;\">' in lines[i]:\n",
    "            b = lines[i]\n",
    "            lines[i] = b[:b.find('h3 style=\"color:#ff0007;\">')+26] + \"{}\".format(values[0]) + b[b.find('</h3>'):]\n",
    "            \n",
    "        if 'h3 style=\"color:#585957;\">' in lines[i]:\n",
    "            b = lines[i]\n",
    "            lines[i] = b[:b.find('h3 style=\"color:#585957;\">')+26] + \"{}\".format(values[1]) + b[b.find('</h3>'):]\n",
    "            \n",
    "        if 'h3 style=\"color:#008d1f;\">' in lines[i]:\n",
    "            b = lines[i]\n",
    "            lines[i] = b[:b.find('h3 style=\"color:#008d1f;\">')+26] + \"{}\".format(values[2]) + b[b.find('</h3>'):]\n",
    "        \n",
    "    f.close()\n",
    "    f = open(\"pages/page_{}.html\".format(country), \"w+\")\n",
    "    s = \"\"\n",
    "    for i in lines:\n",
    "        s+=i\n",
    "    f.write(s)\n",
    "    f.close()\n"
   ]
  },
  {
   "cell_type": "code",
   "execution_count": 12,
   "metadata": {},
   "outputs": [],
   "source": [
    "def update_homepage():\n",
    "    df_time = df.copy()\n",
    "    df_time = df_time[df_time[\"Time\"]==np.max(df_time[\"Time\"])]\n",
    "    values = (np.sum(df_time[\"Confirmed Case\"]), np.sum(df_time[\"Death\"]), np.sum(df_time[\"Recover\"]))\n",
    "    f = open(\"index.html\", \"r+\")\n",
    "    lines = f.readlines()\n",
    "    for i in range(len(lines)):\n",
    "        if 'h3 style=\"color:#ff0007;\">' in lines[i]:\n",
    "            b = lines[i]\n",
    "            lines[i] = b[:b.find('h3 style=\"color:#ff0007;\">')+26] + \"{}\".format(values[0]) + b[b.find('</h3>'):]\n",
    "            \n",
    "        if 'h3 style=\"color:#585957;\">' in lines[i]:\n",
    "            b = lines[i]\n",
    "            lines[i] = b[:b.find('h3 style=\"color:#585957;\">')+26] + \"{}\".format(values[1]) + b[b.find('</h3>'):]\n",
    "            \n",
    "        if 'h3 style=\"color:#008d1f;\">' in lines[i]:\n",
    "            b = lines[i]\n",
    "            lines[i] = b[:b.find('h3 style=\"color:#008d1f;\">')+26] + \"{}\".format(values[2]) + b[b.find('</h3>'):]\n",
    "            \n",
    "    s = \"\"\n",
    "    for i in lines:\n",
    "        s+=i\n",
    "    f.seek(0)\n",
    "    f.write(s)\n",
    "    f.close()"
   ]
  },
  {
   "cell_type": "code",
   "execution_count": 13,
   "metadata": {},
   "outputs": [
    {
     "data": {
      "text/html": [
       "<div>\n",
       "<style scoped>\n",
       "    .dataframe tbody tr th:only-of-type {\n",
       "        vertical-align: middle;\n",
       "    }\n",
       "\n",
       "    .dataframe tbody tr th {\n",
       "        vertical-align: top;\n",
       "    }\n",
       "\n",
       "    .dataframe thead th {\n",
       "        text-align: right;\n",
       "    }\n",
       "</style>\n",
       "<table border=\"1\" class=\"dataframe\">\n",
       "  <thead>\n",
       "    <tr style=\"text-align: right;\">\n",
       "      <th></th>\n",
       "      <th>Time</th>\n",
       "      <th>Confirmed Case</th>\n",
       "      <th>Death</th>\n",
       "      <th>Recover</th>\n",
       "      <th>timestamp</th>\n",
       "    </tr>\n",
       "    <tr>\n",
       "      <th>Nation</th>\n",
       "      <th></th>\n",
       "      <th></th>\n",
       "      <th></th>\n",
       "      <th></th>\n",
       "      <th></th>\n",
       "    </tr>\n",
       "  </thead>\n",
       "  <tbody>\n",
       "    <tr>\n",
       "      <th>AFGHANISTAN</th>\n",
       "      <td>2020-04-03 14:30:10</td>\n",
       "      <td>273.0</td>\n",
       "      <td>7.0</td>\n",
       "      <td>10.0</td>\n",
       "      <td>8260210</td>\n",
       "    </tr>\n",
       "    <tr>\n",
       "      <th>AFGHANISTAN</th>\n",
       "      <td>2020-04-03 14:30:11</td>\n",
       "      <td>273.0</td>\n",
       "      <td>7.0</td>\n",
       "      <td>10.0</td>\n",
       "      <td>8260211</td>\n",
       "    </tr>\n",
       "    <tr>\n",
       "      <th>AFGHANISTAN</th>\n",
       "      <td>2020-04-03 17:30:12</td>\n",
       "      <td>273.0</td>\n",
       "      <td>7.0</td>\n",
       "      <td>10.0</td>\n",
       "      <td>8271012</td>\n",
       "    </tr>\n",
       "    <tr>\n",
       "      <th>AFGHANISTAN</th>\n",
       "      <td>2020-04-03 20:30:12</td>\n",
       "      <td>273.0</td>\n",
       "      <td>7.0</td>\n",
       "      <td>10.0</td>\n",
       "      <td>8281812</td>\n",
       "    </tr>\n",
       "    <tr>\n",
       "      <th>AFGHANISTAN</th>\n",
       "      <td>2020-04-03 23:30:19</td>\n",
       "      <td>281.0</td>\n",
       "      <td>7.0</td>\n",
       "      <td>10.0</td>\n",
       "      <td>8292619</td>\n",
       "    </tr>\n",
       "  </tbody>\n",
       "</table>\n",
       "</div>"
      ],
      "text/plain": [
       "                           Time  Confirmed Case  Death  Recover  timestamp\n",
       "Nation                                                                    \n",
       "AFGHANISTAN 2020-04-03 14:30:10           273.0    7.0     10.0    8260210\n",
       "AFGHANISTAN 2020-04-03 14:30:11           273.0    7.0     10.0    8260211\n",
       "AFGHANISTAN 2020-04-03 17:30:12           273.0    7.0     10.0    8271012\n",
       "AFGHANISTAN 2020-04-03 20:30:12           273.0    7.0     10.0    8281812\n",
       "AFGHANISTAN 2020-04-03 23:30:19           281.0    7.0     10.0    8292619"
      ]
     },
     "execution_count": 13,
     "metadata": {},
     "output_type": "execute_result"
    }
   ],
   "source": [
    "df = pd.read_csv(\"data_csv/master1.csv\")\n",
    "df[\"Time\"] = convert(df[\"Time\"])\n",
    "df = df.sort_values([\"Nation\", \"timestamp\"]).set_index(\"Nation\")\n",
    "df.head()"
   ]
  },
  {
   "cell_type": "code",
   "execution_count": 14,
   "metadata": {},
   "outputs": [],
   "source": [
    "df.to_csv(\"data_csv/by_country/total.csv\", index=True)"
   ]
  },
  {
   "cell_type": "code",
   "execution_count": 15,
   "metadata": {
    "scrolled": true
   },
   "outputs": [],
   "source": [
    "for country in df.index.unique():\n",
    "    df_x = df.loc[country]\n",
    "    df_x.to_csv(\"data_csv/by_country/{}.csv\".format(country), index=True)\n",
    "    \n",
    "    df_x = df_x[df_x[\"Time\"]==np.max(df_x[\"Time\"])]\n",
    "    values = (df_x[\"Confirmed Case\"][0], df_x[\"Death\"][0], df_x[\"Recover\"][0])\n",
    "    \n",
    "    generate_webpage(country, values)"
   ]
  },
  {
   "cell_type": "code",
   "execution_count": 8,
   "metadata": {
    "scrolled": true
   },
   "outputs": [],
   "source": [
    "update_homepage()"
   ]
  }
 ],
 "metadata": {
  "kernelspec": {
   "display_name": "Python 3",
   "language": "python",
   "name": "python3"
  },
  "language_info": {
   "codemirror_mode": {
    "name": "ipython",
    "version": 3
   },
   "file_extension": ".py",
   "mimetype": "text/x-python",
   "name": "python",
   "nbconvert_exporter": "python",
   "pygments_lexer": "ipython3",
   "version": "3.5.2"
  }
 },
 "nbformat": 4,
 "nbformat_minor": 2
}
