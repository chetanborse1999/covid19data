{
 "cells": [
  {
   "cell_type": "code",
   "execution_count": 13,
   "metadata": {},
   "outputs": [],
   "source": [
    "import pandas as pd\n",
    "import matplotlib.pyplot as plt\n",
    "import numpy as np"
   ]
  },
  {
   "cell_type": "code",
   "execution_count": 14,
   "metadata": {},
   "outputs": [],
   "source": [
    "countries = pd.read_csv(\"data_csv/master1.csv\").set_index(\"Nation\").index.unique()"
   ]
  },
  {
   "cell_type": "code",
   "execution_count": 22,
   "metadata": {},
   "outputs": [],
   "source": [
    "def confirmed_cases_plot(df):\n",
    "    fig = plt.figure()\n",
    "    plt.plot(df[\"timestamp\"],df[\"Confirmed Case\"])\n",
    "    plt.xlabel(\"Time\")\n",
    "    plt.ylabel(\"Number of Cases\")\n",
    "    plt.title(\"{} Coronavirus Count\".format(country))\n",
    "    plt.tight_layout()\n",
    "    fig.set_figheight(9)\n",
    "    fig.set_figwidth(12)\n",
    "    plt.savefig(\"results/confirmed_cases_{}.png\".format(country))\n",
    "    print(country)\n",
    "    plt.close(fig)"
   ]
  },
  {
   "cell_type": "code",
   "execution_count": 21,
   "metadata": {},
   "outputs": [],
   "source": [
    "for country in countries:\n",
    "    df = pd.read_csv(\"data_csv/by_country/{}.csv\".format(country))\n",
    "    confirmed_cases_plot(df)\n",
    "    "
   ]
  }
 ],
 "metadata": {
  "kernelspec": {
   "display_name": "Python 3",
   "language": "python",
   "name": "python3"
  },
  "language_info": {
   "codemirror_mode": {
    "name": "ipython",
    "version": 3
   },
   "file_extension": ".py",
   "mimetype": "text/x-python",
   "name": "python",
   "nbconvert_exporter": "python",
   "pygments_lexer": "ipython3",
   "version": "3.5.2"
  }
 },
 "nbformat": 4,
 "nbformat_minor": 2
}
